{
 "cells": [
  {
   "cell_type": "markdown",
   "metadata": {},
   "source": [
    "## 첫 번째 장고 앱 작성하기, part 1"
   ]
  },
  {
   "cell_type": "markdown",
   "metadata": {},
   "source": [
    "작성자의 Django version은 2.1.2 버전입니다.  \n",
    "\n",
    "예제로 배워봅시다.\n",
    "\n",
    "이 튜토리얼을 통해, 간단한 설문조사(Polls) 어플리케이션을 만드는 과정을 따라해 보겠습니다.\n",
    "\n",
    "두 파트로 구성되어 있습니다.\n",
    "\n",
    "- 사람들이 설문 내용을 보고 직접 투표할 수 있는 개방된 사이트\n",
    "- 관리자가 설문을 추가, 변경, 삭제할 수 있는 관리용 사이트"
   ]
  },
  {
   "cell_type": "code",
   "execution_count": 6,
   "metadata": {},
   "outputs": [
    {
     "name": "stdout",
     "output_type": "stream",
     "text": [
      "Collecting django\n",
      "  Downloading https://files.pythonhosted.org/packages/d1/e5/2676be45ea49cfd09a663f289376b3888accd57ff06c953297bfdee1fb08/Django-2.1.3-py3-none-any.whl (7.3MB)\n",
      "Requirement already satisfied: pytz in d:\\anaconda3\\lib\\site-packages (from django) (2017.2)\n",
      "Installing collected packages: django\n",
      "Successfully installed django-2.1.3\n"
     ]
    }
   ],
   "source": [
    "! pip install django # 장고 설치"
   ]
  },
  {
   "cell_type": "code",
   "execution_count": 7,
   "metadata": {},
   "outputs": [
    {
     "name": "stdout",
     "output_type": "stream",
     "text": [
      "2.1.3\n"
     ]
    }
   ],
   "source": [
    "! python -m django --version # 장고 버전 확인할 수 있다."
   ]
  },
  {
   "cell_type": "markdown",
   "metadata": {},
   "source": [
    "### 프로젝트 만들기"
   ]
  },
  {
   "cell_type": "markdown",
   "metadata": {},
   "source": [
    "Django를 처음 사용한다면, 초기 설정에서 주의를 기울여야 합니다.  \n",
    "즉, Django project 를 구성하는 코드를 자동 생성해야 하는데, 이 과정에서 데이터베이스 설정, Django 위한 옵션들, 어플리케이션을 위한 설정들과 같은 Django 인스턴스를 구성하는 수많은 설정들이 생성되기 때문입니다."
   ]
  },
  {
   "cell_type": "code",
   "execution_count": 8,
   "metadata": {
    "collapsed": true
   },
   "outputs": [],
   "source": [
    "! django-admin startproject mysite"
   ]
  },
  {
   "cell_type": "markdown",
   "metadata": {},
   "source": [
    "이 명령은 현재 디렉토리에서 mysite 라는 디렉토리를 생성할 것입니다."
   ]
  },
  {
   "cell_type": "markdown",
   "metadata": {},
   "source": [
    "mysite/  \n",
    "&nbsp;&nbsp;&nbsp;&nbsp;manage.py  \n",
    "&nbsp;&nbsp;&nbsp;&nbsp;mysite/  \n",
    "&nbsp;&nbsp;&nbsp;&nbsp;&nbsp;&nbsp;&nbsp;&nbsp;\\__init\\__.py  \n",
    "&nbsp;&nbsp;&nbsp;&nbsp;&nbsp;&nbsp;&nbsp;&nbsp;settings.py  \n",
    "&nbsp;&nbsp;&nbsp;&nbsp;&nbsp;&nbsp;&nbsp;&nbsp;urls.py  \n",
    "&nbsp;&nbsp;&nbsp;&nbsp;&nbsp;&nbsp;&nbsp;&nbsp;wsgi.py  "
   ]
  },
  {
   "cell_type": "markdown",
   "metadata": {},
   "source": [
    "- **mysite/** 디렉토리 바깥의 디렉토리는 단순히 프로젝트를 담는 공간입니다. 이 이름은 Django 와 아무 상관이 없으니, 원하는 이름으로 변경하셔도 됩니다.  \n",
    "- **manage.py**: Django 프로젝트와 다양한 방법으로 상호작용 하는 커맨드라인의 유틸리티 입니다. manage.py 에 대한 자세한 정보는 django-admin and manage.py 에서 확인할 수 있습니다.  \n",
    "- **mysite/** 디렉토리 내부에는 project 를 위한 실제 Python 패키지들이 저장됩니다. 이 디렉토리 내의 이름을 이용하여, (**mysite.urls** 와 같은 식으로) project 어디서나 Python 패키지들을 import 할 수 있습니다.  \n",
    "- **mysite/\\__init\\__.py**: Python 으로 하여금 이 디렉토리를 패키지 처럼 다루라고 알려주는 용도의 단순한 빈 파일입니다. Python 초심자라면, Python 공식 홈페이지의 more about packages 를 읽어보십시요.  \n",
    "- **mysite/settings.py**: 현재 Django project 의 환경/구성을 저장합니다. Django settings 에서 환경 설정이 어떻게 동작하는지 확인할 수 있습니다.  \n",
    "- **mysite/urls.py**: 현재 Django project 의 URL 선언을 저장합니다. Django 로 작성된 사이트의 \"목차\" 라고 할 수 있습니다. URL dispatcher 에서 URL 에 대한 자세한 내용을 읽어보세요.  \n",
    "- **mysite/wsgi.py**: 현재 project 를 서비스 하기 위한 WSGI 호환 웹 서버의 진입점 입니다. How to deploy with WSGI 를 읽어보세요."
   ]
  },
  {
   "cell_type": "markdown",
   "metadata": {},
   "source": [
    "### 개발 서버"
   ]
  },
  {
   "cell_type": "markdown",
   "metadata": {},
   "source": [
    "Django project가 동작하는지 확인"
   ]
  },
  {
   "cell_type": "code",
   "execution_count": null,
   "metadata": {
    "collapsed": true
   },
   "outputs": [],
   "source": [
    "! python mysite/manage.py runserver"
   ]
  },
  {
   "cell_type": "markdown",
   "metadata": {},
   "source": [
    "Django 개발 서버를 시작했습니다. 개발 서버는 순수 Python 으로 작성된 경량 웹 서버입니다. Django 에 포함되어 있기 때문에 아무 설정없이 바로 개발에 사용할 수 있습니다.\n",
    "\n",
    "이쯤에서 하나 기억할 것이 있습니다. 절대로 개발 서버를 운영 환경에서 사용하지 마십시요. 개발 서버는 오직 개발 목적으로만 사용하여야 합니다. (우리는 웹 프레임워크를 만들지 웹 서버를 만들지는 않거든요)\n",
    "\n",
    "이제 서버가 동작하기 시작했으니, 자신의 웹 브라우져에서 http://127.0.0.1:8000/ 을 통해 접속할 수 있습니다. 로켓이 이륙하는 모습이 담긴 \"Congratulations!\" 페이지를 보게될 거에요. 잘 동작 하네요!"
   ]
  },
  {
   "cell_type": "markdown",
   "metadata": {},
   "source": [
    "### 설문조사 앱 만들기 "
   ]
  },
  {
   "cell_type": "markdown",
   "metadata": {},
   "source": [
    "이제, 작업을 시작하기 위해 당신의 환경(project) 이 설치되었습니다.\n",
    "\n",
    "Django 에서 당신이 작성하는 각 어플리케이션들은 다음과 같은 관례로 Python 패키지가 구성됩니다. Django 는 앱(app) 의 기본 디렉토리 구조를 자동으로 생성할 수 있는 도구를 제공하기 때문에, 코드에만 더욱 집중할 수 있습니다."
   ]
  },
  {
   "cell_type": "markdown",
   "metadata": {},
   "source": [
    "> 참고!  Project와 App은 1대 다의 관계를 지닌다."
   ]
  },
  {
   "cell_type": "markdown",
   "metadata": {},
   "source": [
    "당신의 app 은 Python 경로 어디라도 있을 수 있습니다. 그러나 이 예제에서는, mysite 같은 submodule 말고, top-level 에서 곧바로 import 할 수 있게 끔 manage.py 바로 옆에 생성해 보도록 하겠습니다.\n",
    "\n",
    "app 을 생성하기 위해 manage.py 가 존재하는 디렉토리에서 다음의 명령을 입력해 봅시다."
   ]
  },
  {
   "cell_type": "code",
   "execution_count": 1,
   "metadata": {
    "collapsed": true
   },
   "outputs": [],
   "source": [
    "! python manage.py startapp polls \n",
    "# polls 라는 디렉토리가 생겼습니다."
   ]
  },
  {
   "cell_type": "markdown",
   "metadata": {},
   "source": [
    "polls/  \n",
    "&nbsp;&nbsp;&nbsp;&nbsp;\\__init\\__.py  \n",
    "&nbsp;&nbsp;&nbsp;&nbsp;admin.py  \n",
    "&nbsp;&nbsp;&nbsp;&nbsp;apps.py  \n",
    "&nbsp;&nbsp;&nbsp;&nbsp;migrations/  \n",
    "&nbsp;&nbsp;&nbsp;&nbsp;&nbsp;&nbsp;&nbsp;&nbsp;\\__init\\__.py  \n",
    "&nbsp;&nbsp;&nbsp;&nbsp;models.py  \n",
    "&nbsp;&nbsp;&nbsp;&nbsp;tests.py  \n",
    "&nbsp;&nbsp;&nbsp;&nbsp;views.py  "
   ]
  },
  {
   "cell_type": "markdown",
   "metadata": {},
   "source": [
    "이 디렉토리 구조는 poll 어플리케이션의 집이 되어줄 것입니다."
   ]
  },
  {
   "cell_type": "markdown",
   "metadata": {},
   "source": [
    "### 첫 번째 뷰 작성하기 "
   ]
  },
  {
   "cell_type": "markdown",
   "metadata": {},
   "source": [
    "__polls/views.py__  \n",
    "  \n",
    ">from django.http import HttpResponse  \n",
    ">  \n",
    ">def index(request):  \n",
    ">&nbsp;&nbsp;&nbsp;&nbsp;return HttpResponse(\"Hello, world. You're at the polls index.\")"
   ]
  },
  {
   "cell_type": "markdown",
   "metadata": {},
   "source": [
    "Django 에서 가장 간단한 형태의 view 입니다. view 를 호출하려면 이와 연결된 URL 이 있어야 하는데, 이를 위해 URLconf 가 사용됩니다.\n",
    "\n",
    "polls 디렉토리에서 URLconf 를 생성하려면, urls.py 라는 파일을 생성해야 합니다. 정확히 생성했다면, app 디렉토리는 다음과 같이 보일겁니다.:"
   ]
  },
  {
   "cell_type": "markdown",
   "metadata": {},
   "source": [
    "polls/  \n",
    "&nbsp;&nbsp;&nbsp;&nbsp;\\__init\\__.py  \n",
    "&nbsp;&nbsp;&nbsp;&nbsp;admin.py  \n",
    "&nbsp;&nbsp;&nbsp;&nbsp;apps.py  \n",
    "&nbsp;&nbsp;&nbsp;&nbsp;migrations/  \n",
    "&nbsp;&nbsp;&nbsp;&nbsp;&nbsp;&nbsp;&nbsp;&nbsp;\\__init\\__.py  \n",
    "&nbsp;&nbsp;&nbsp;&nbsp;models.py  \n",
    "&nbsp;&nbsp;&nbsp;&nbsp;tests.py  \n",
    "&nbsp;&nbsp;&nbsp;&nbsp;urls.py  \n",
    "&nbsp;&nbsp;&nbsp;&nbsp;views.py  "
   ]
  },
  {
   "cell_type": "markdown",
   "metadata": {},
   "source": [
    "polls/urls.py에는 아래의 코드 포함되어야 합니다.   \n",
    "\n",
    "__polls/urls.py__   \n",
    ">#from django.urls import path   # 나의 경우에는 Django 2.1버전 튜토리얼이 맞지 않음  \n",
    ">from django.conf.urls import url # 1.11 버전 튜토리얼의 경우 실행이 되었다.\n",
    ">  \n",
    ">from . import views  \n",
    ">  \n",
    ">urlpatterns = [  \n",
    ">&nbsp;&nbsp;&nbsp;&nbsp;#path('', views.index, name='index'),  \n",
    ">&nbsp;&nbsp;&nbsp;&nbsp;url(r'^$', views.index, name='index'),  \n",
    ">]  "
   ]
  },
  {
   "cell_type": "markdown",
   "metadata": {},
   "source": [
    "다음 단계는, 최상위 URLconf 에서 polls.urls 모듈을 바라보게 설정합니다. mysite/urls.py  파일을 열고, django.urls.include 를 import 하고, urlpatterns 리스트에 include() 함수를 다음과 같이 추가 합니다."
   ]
  },
  {
   "cell_type": "markdown",
   "metadata": {},
   "source": [
    "mysite/urls.py\n",
    "\n",
    ">from django.contrib import admin  \n",
    ">#from django.urls import include, path #나의 경우에 Django Tutorial 2.1 버전을 따라 할 경우 실행 안됨  \n",
    ">from django.conf.urls import include, url\n",
    ">\n",
    ">#urlpatterns = [ path('polls/', include('polls.urls')), ('admin/', admin.site.urls), ]  \n",
    ">urlpatterns = [  \n",
    ">&nbsp;&nbsp;&nbsp;&nbsp;url(r'^polls/', include('polls.urls')),  \n",
    ">&nbsp;&nbsp;&nbsp;&nbsp;url(r'^admin/', admin.site.urls),  \n",
    ">]  "
   ]
  },
  {
   "cell_type": "markdown",
   "metadata": {},
   "source": [
    "include() 함수는 다른 URLconf 들을 참조할 수 있도록 도와줍니다. Django 가 함수 include() 를 만나게 되면, URL 의 그 시점까지 일치하는 부분을 잘라내고, 남은 문자열 부분을 후속 처리를 위해 include 된 URLconf 로 전달합니다.\n",
    "\n",
    "include() 에 숨은 아이디어 덕분에 URL 을 쉽게 연결할 수 있습니다. polls 앱에 그 자체의 URLconf (polls/urls.py) 가 존재하는 한, \"/polls/\", 또는 \"/fun_polls/\", \"/content/polls/\" 와 같은 경로, 또는 그 어떤 다른 root 경로에 연결하더라도, 앱은 여전히 잘 동작할 것입니다."
   ]
  },
  {
   "cell_type": "markdown",
   "metadata": {},
   "source": [
    ">언제 include() 를 사용해야 하나요?\n",
    ">\n",
    ">admin.site.urls 를 제외한, 다른 URL 패턴을 include 할 때마다 항상 include() 를 사용해야 합니다."
   ]
  },
  {
   "cell_type": "markdown",
   "metadata": {},
   "source": [
    "이제 index view 가 URLconf 에서 연결되었습니다. 잘 작동하는지 확인하기 위해 다음을 입력해 보세요.\n",
    "\n"
   ]
  },
  {
   "cell_type": "code",
   "execution_count": null,
   "metadata": {
    "collapsed": true
   },
   "outputs": [],
   "source": [
    "! python manage.py runserver"
   ]
  },
  {
   "cell_type": "markdown",
   "metadata": {},
   "source": [
    "브라우저에서 http://localhost:8000/polls/ 를 입력하면 index view 로 정의한 \"Hello, world. You're at the polls index.\" 가 보일 것입니다.\n",
    "\n",
    "url() 함수에는 4 개의 인수가 전달되었습니다. 두개의 필수 인수로 regex 와 view 가 있고, 두개의 옵션 인수로 kwargs 와 name 이 있습니다. 이 시점에서, 이 인수가 무엇인지 살펴보는것은 의미가 있습니다."
   ]
  },
  {
   "cell_type": "markdown",
   "metadata": {},
   "source": [
    "### url() 인수: regex"
   ]
  },
  {
   "cell_type": "markdown",
   "metadata": {},
   "source": [
    "\"regex\" 는 보통 정규 표현식(\"Regular Expression\") 을 짧게 줄여 쓰는 표현입니다. 문자열의 패턴을 일치시키는 문법을 말하며, 이 경우에는 url 의 패턴을 찾아내는데 사용되었습니다. Django 에서는 목록의 첫번째 정규표현식부터 시작해서, 요청된 URL 에 대하여 일치하는 정규 표현식이 발견 될때까지 차례로 비교합니다.\n",
    "\n",
    "이 정규 표현식 들은 GET 이나 POST 의 매개변수나, 도메인 이름을 뒤지지는 않습니다. 예를 들어, https://www.example.com/myapp/ 가 요청된 경우, URLconf 는 오직 myapp/ 부분만 바라봅니다. https://www.example.com/myapp/?page=3 같은 요청에도, URLconf 는 역시 myapp/ 부분만 신경씁니다."
   ]
  },
  {
   "cell_type": "markdown",
   "metadata": {},
   "source": [
    "마지막으로 성능에 관해 알아야 할 사실은, 이런 정규 표현식들은 URLconf 모듈이 처음 불러올 때 자동으로 컴파일 되기 때문에 엄청나게 빠르다는 것입니다. 물론 앞서 언급했듯이 복잡한 검색을 쓰지 않는 한 말이죠."
   ]
  },
  {
   "cell_type": "markdown",
   "metadata": {},
   "source": [
    "### url() 인수: view\n",
    "Django 에서 일치하는 정규 표현식을 찾아내면, HttpRequest 객체를 첫번째 인수로 하고, 정규표현식에서 “잡힌” 값들을 나머지 인수로 하여 특정한 view 함수를 호출합니다. 만약 정규표현식이 간단한 형식이라면, 잡힌 값들은 단순히 순서 기반의 인수로서 함수에 넘겨집니다. 만약 이름 기반의 정규표현식이라면, 잡힌 값들은 키워드 인수들로 함수에 넘겨집니다. 나중에 이에 대한 간단한 예제를 살펴보겠습니다."
   ]
  },
  {
   "cell_type": "markdown",
   "metadata": {},
   "source": [
    "### url() 인수: kwargs\n",
    "임의의 키워드 인수들은 목표한 view 에 사전형으로 전달됩니다. 그러나 이 튜토리얼에서는 사용하지 않을겁니다."
   ]
  },
  {
   "cell_type": "markdown",
   "metadata": {},
   "source": [
    "### url() 인수: name\n",
    "URL 에 이름을 지으면, 템플릿을 포함한 Django 어디에서나 명확하게 참조할 수 있습니다. 이 강력한 기능을 이용하여, 단 하나의 파일만 수정해도 project 내의 모든 URL 패턴을 바꿀 수 있도록 도와줍니다.\n",
    "\n",
    "request 와 response 의 기본 흐름을 이해하셨다면, 튜토리얼 2장 에서 데이터베이스 작업을 시작해보세요."
   ]
  }
 ],
 "metadata": {
  "kernelspec": {
   "display_name": "Python 3",
   "language": "python",
   "name": "python3"
  },
  "language_info": {
   "codemirror_mode": {
    "name": "ipython",
    "version": 3
   },
   "file_extension": ".py",
   "mimetype": "text/x-python",
   "name": "python",
   "nbconvert_exporter": "python",
   "pygments_lexer": "ipython3",
   "version": "3.6.3"
  }
 },
 "nbformat": 4,
 "nbformat_minor": 2
}
